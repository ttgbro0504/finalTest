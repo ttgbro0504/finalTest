{
 "cells": [
  {
   "cell_type": "markdown",
   "id": "d5d1c4f8-59a1-4719-a960-1471c36100a7",
   "metadata": {},
   "source": [
    "# Data Science Tools and Ecosystems "
   ]
  },
  {
   "cell_type": "markdown",
   "id": "34c4ecdc-367b-427c-a312-fda444ec3ed0",
   "metadata": {},
   "source": [
    "In this notebook, Data Science Tools and Ecosystem are summarized."
   ]
  },
  {
   "cell_type": "markdown",
   "id": "05b0f36b-e1ef-4e6d-973c-fa3438b6381b",
   "metadata": {},
   "source": [
    "**Objectives:**\n",
    "* Popular languages used in data science\n",
    "* Commonly used libraries in data science\n",
    "* Tools used in data science\n",
    "* Converting minutes into hours"
   ]
  },
  {
   "cell_type": "markdown",
   "id": "9af357df-e7df-4b9c-bca5-8b1d49628d1a",
   "metadata": {},
   "source": [
    "Some of the popular languages that Data Scientists use are:\n",
    "* Python\n",
    "* R\n",
    "* Scala\n",
    "* Julia"
   ]
  },
  {
   "cell_type": "markdown",
   "id": "73b24ac7-0ced-438d-83ff-5be03683a619",
   "metadata": {},
   "source": [
    "Some of the commonly used libraries used by Data Scientists include:\n",
    "* Panda\n",
    "* matplotlib\n",
    "* scikit learn\n",
    "* ggplot"
   ]
  },
  {
   "cell_type": "markdown",
   "id": "f48302c7-ca26-4e97-8d11-f20c0db40874",
   "metadata": {},
   "source": [
    "| Data Science Tools |\n",
    "| :----------------: |\n",
    "| R Studio |\n",
    "| Apache Spark |\n",
    "| Watson Studio |\n",
    "| Tensor Flow |"
   ]
  },
  {
   "cell_type": "markdown",
   "id": "8352e6af-60ae-40b6-a813-82da17dca0a2",
   "metadata": {},
   "source": [
    "### Below are a few examples of evaluating arithmetic expressions in Python"
   ]
  },
  {
   "cell_type": "code",
   "execution_count": 1,
   "id": "898b6c65-9ca0-45b6-9545-cd50fa966b82",
   "metadata": {
    "tags": []
   },
   "outputs": [
    {
     "data": {
      "text/plain": [
       "17"
      ]
     },
     "execution_count": 1,
     "metadata": {},
     "output_type": "execute_result"
    }
   ],
   "source": [
    "# This a simple arithmetic expression to mutiply then add integers\n",
    "(3*4)+5"
   ]
  },
  {
   "cell_type": "code",
   "execution_count": 4,
   "id": "fe31be9b-53d3-4c95-bb5f-480ae1797a78",
   "metadata": {
    "tags": []
   },
   "outputs": [
    {
     "name": "stdin",
     "output_type": "stream",
     "text": [
      "Enter time in minutes:  200\n"
     ]
    },
    {
     "name": "stdout",
     "output_type": "stream",
     "text": [
      "Hours = 3\n",
      "Minutes = 20\n"
     ]
    }
   ],
   "source": [
    "# This will convert 200 minutes to hours by diving by 60\n",
    "min = int(input(\"Enter time in minutes: \"))\n",
    "h = min // 60\n",
    "m = min % 60\n",
    "print(\"Hours =\", h)\n",
    "print(\"Minutes =\", m)"
   ]
  },
  {
   "cell_type": "markdown",
   "id": "07855ccc-d535-46f7-9da6-b40fe14e4508",
   "metadata": {},
   "source": [
    "## Author\n",
    "Tanush Saboo"
   ]
  }
 ],
 "metadata": {
  "kernelspec": {
   "display_name": "Python",
   "language": "python",
   "name": "conda-env-python-py"
  },
  "language_info": {
   "codemirror_mode": {
    "name": "ipython",
    "version": 3
   },
   "file_extension": ".py",
   "mimetype": "text/x-python",
   "name": "python",
   "nbconvert_exporter": "python",
   "pygments_lexer": "ipython3",
   "version": "3.7.12"
  }
 },
 "nbformat": 4,
 "nbformat_minor": 5
}
